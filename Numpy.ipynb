{
  "nbformat": 4,
  "nbformat_minor": 0,
  "metadata": {
    "colab": {
      "name": "Untitled0.ipynb",
      "provenance": [],
      "authorship_tag": "ABX9TyONgOtA3Hx+F3eNLoUtL2NA",
      "include_colab_link": true
    },
    "kernelspec": {
      "name": "python3",
      "display_name": "Python 3"
    }
  },
  "cells": [
    {
      "cell_type": "markdown",
      "metadata": {
        "id": "view-in-github",
        "colab_type": "text"
      },
      "source": [
        "<a href=\"https://colab.research.google.com/github/Danny-Dasilva/linalg/blob/main/Numpy.ipynb\" target=\"_parent\"><img src=\"https://colab.research.google.com/assets/colab-badge.svg\" alt=\"Open In Colab\"/></a>"
      ]
    },
    {
      "cell_type": "code",
      "metadata": {
        "id": "2_b97JbmZXaj"
      },
      "source": [
        "import numpy as np"
      ],
      "execution_count": 1,
      "outputs": []
    },
    {
      "cell_type": "code",
      "metadata": {
        "id": "OkiZe7ueZ735"
      },
      "source": [
        "a = np.array([100, 20, 30, 40, 50])"
      ],
      "execution_count": 3,
      "outputs": []
    },
    {
      "cell_type": "markdown",
      "metadata": {
        "id": "iGy5xm6KZwtf"
      },
      "source": [
        "Array dimensions\n",
        "\n",
        "\n",
        "\n",
        "\n"
      ]
    },
    {
      "cell_type": "code",
      "metadata": {
        "colab": {
          "base_uri": "https://localhost:8080/"
        },
        "id": "wySHxsbxZsvX",
        "outputId": "cd7e6f27-2275-4f74-8ec1-14cffe9c9dc0"
      },
      "source": [
        "a.shape"
      ],
      "execution_count": 4,
      "outputs": [
        {
          "output_type": "execute_result",
          "data": {
            "text/plain": [
              "(5,)"
            ]
          },
          "metadata": {
            "tags": []
          },
          "execution_count": 4
        }
      ]
    },
    {
      "cell_type": "code",
      "metadata": {
        "id": "h8qgV6zQZ5U6"
      },
      "source": [
        "A = np.array([[3, 3, 3], \n",
        "              [4, 4, 4],\n",
        "              [5, 5, 5]])"
      ],
      "execution_count": 6,
      "outputs": []
    },
    {
      "cell_type": "code",
      "metadata": {
        "colab": {
          "base_uri": "https://localhost:8080/"
        },
        "id": "jH9Sg65maOUs",
        "outputId": "1b07877c-b6d0-4b58-c387-86a546ad2cbd"
      },
      "source": [
        "A.shape"
      ],
      "execution_count": 8,
      "outputs": [
        {
          "output_type": "execute_result",
          "data": {
            "text/plain": [
              "(3, 3)"
            ]
          },
          "metadata": {
            "tags": []
          },
          "execution_count": 8
        }
      ]
    },
    {
      "cell_type": "markdown",
      "metadata": {
        "id": "zG-r5t6QaYYI"
      },
      "source": [
        "Pulling a submatrix"
      ]
    },
    {
      "cell_type": "code",
      "metadata": {
        "id": "rnywrvXJaTTM"
      },
      "source": [
        "B = A[1:2]"
      ],
      "execution_count": 13,
      "outputs": []
    },
    {
      "cell_type": "code",
      "metadata": {
        "colab": {
          "base_uri": "https://localhost:8080/"
        },
        "id": "xNuDicqRadiZ",
        "outputId": "e8f19dd2-a5d1-4e91-df3c-81073171909e"
      },
      "source": [
        "B"
      ],
      "execution_count": 14,
      "outputs": [
        {
          "output_type": "execute_result",
          "data": {
            "text/plain": [
              "array([[4, 4, 4]])"
            ]
          },
          "metadata": {
            "tags": []
          },
          "execution_count": 14
        }
      ]
    },
    {
      "cell_type": "markdown",
      "metadata": {
        "id": "zn6fCGxfay9y"
      },
      "source": [
        "Special Matrices"
      ]
    },
    {
      "cell_type": "code",
      "metadata": {
        "id": "wrbt4imTa0NF"
      },
      "source": [
        "I = np.eye(3)"
      ],
      "execution_count": 17,
      "outputs": []
    },
    {
      "cell_type": "code",
      "metadata": {
        "colab": {
          "base_uri": "https://localhost:8080/"
        },
        "id": "6lwYafkMa3u_",
        "outputId": "15419d18-e57d-4a8a-ca5b-7c379579848c"
      },
      "source": [
        "I"
      ],
      "execution_count": 18,
      "outputs": [
        {
          "output_type": "execute_result",
          "data": {
            "text/plain": [
              "array([[1., 0., 0.],\n",
              "       [0., 1., 0.],\n",
              "       [0., 0., 1.]])"
            ]
          },
          "metadata": {
            "tags": []
          },
          "execution_count": 18
        }
      ]
    },
    {
      "cell_type": "code",
      "metadata": {
        "colab": {
          "base_uri": "https://localhost:8080/"
        },
        "id": "2X1RTubua4Ig",
        "outputId": "baaffd34-67cb-471f-9b0d-a7cf89d140a8"
      },
      "source": [
        "np.zeros((5,5))"
      ],
      "execution_count": 23,
      "outputs": [
        {
          "output_type": "execute_result",
          "data": {
            "text/plain": [
              "array([[0., 0., 0., 0., 0.],\n",
              "       [0., 0., 0., 0., 0.],\n",
              "       [0., 0., 0., 0., 0.],\n",
              "       [0., 0., 0., 0., 0.],\n",
              "       [0., 0., 0., 0., 0.]])"
            ]
          },
          "metadata": {
            "tags": []
          },
          "execution_count": 23
        }
      ]
    },
    {
      "cell_type": "code",
      "metadata": {
        "colab": {
          "base_uri": "https://localhost:8080/"
        },
        "id": "vQE_-V46bCF6",
        "outputId": "7a327c3d-d5b6-478d-c577-98c4a0e8de75"
      },
      "source": [
        "np.ones((6, 4))"
      ],
      "execution_count": 24,
      "outputs": [
        {
          "output_type": "execute_result",
          "data": {
            "text/plain": [
              "array([[1., 1., 1., 1.],\n",
              "       [1., 1., 1., 1.],\n",
              "       [1., 1., 1., 1.],\n",
              "       [1., 1., 1., 1.],\n",
              "       [1., 1., 1., 1.],\n",
              "       [1., 1., 1., 1.]])"
            ]
          },
          "metadata": {
            "tags": []
          },
          "execution_count": 24
        }
      ]
    },
    {
      "cell_type": "code",
      "metadata": {
        "colab": {
          "base_uri": "https://localhost:8080/"
        },
        "id": "8dd5SewdbZN9",
        "outputId": "9bba9141-d345-463b-f011-4728ef284ad1"
      },
      "source": [
        "np.full((4, 5), 10)"
      ],
      "execution_count": 26,
      "outputs": [
        {
          "output_type": "execute_result",
          "data": {
            "text/plain": [
              "array([[10, 10, 10, 10, 10],\n",
              "       [10, 10, 10, 10, 10],\n",
              "       [10, 10, 10, 10, 10],\n",
              "       [10, 10, 10, 10, 10]])"
            ]
          },
          "metadata": {
            "tags": []
          },
          "execution_count": 26
        }
      ]
    },
    {
      "cell_type": "code",
      "metadata": {
        "colab": {
          "base_uri": "https://localhost:8080/"
        },
        "id": "hBw4IJNycC_o",
        "outputId": "e6a89743-a239-400a-8bf5-c0ef130c99d5"
      },
      "source": [
        "X = np.random.random((2000,2))\n",
        "X"
      ],
      "execution_count": 44,
      "outputs": [
        {
          "output_type": "execute_result",
          "data": {
            "text/plain": [
              "array([[0.1994887 , 0.36911355],\n",
              "       [0.76221234, 0.70940047],\n",
              "       [0.07891759, 0.71977367],\n",
              "       ...,\n",
              "       [0.23711553, 0.21917329],\n",
              "       [0.69908414, 0.18267961],\n",
              "       [0.30755806, 0.22313901]])"
            ]
          },
          "metadata": {
            "tags": []
          },
          "execution_count": 44
        }
      ]
    },
    {
      "cell_type": "markdown",
      "metadata": {
        "id": "xxtav3VecXMD"
      },
      "source": [
        "Calculations\n"
      ]
    },
    {
      "cell_type": "code",
      "metadata": {
        "colab": {
          "base_uri": "https://localhost:8080/"
        },
        "id": "BKaAyTCycPGI",
        "outputId": "aa026201-0a18-4ccc-fb00-6c72b7da48f3"
      },
      "source": [
        "np.mean(X)"
      ],
      "execution_count": 45,
      "outputs": [
        {
          "output_type": "execute_result",
          "data": {
            "text/plain": [
              "0.5014596328839194"
            ]
          },
          "metadata": {
            "tags": []
          },
          "execution_count": 45
        }
      ]
    },
    {
      "cell_type": "markdown",
      "metadata": {
        "id": "MayXYG7Dcko_"
      },
      "source": [
        "Standard deviation\n",
        "$$Var(X) = E(X^2) - E^2(X) = \\int_{0}^1 x^2 \\ dx - \\frac{1}{4} = \\frac{1}{3} - \\frac{1}{4} = \\frac{1}{12}$$"
      ]
    },
    {
      "cell_type": "code",
      "metadata": {
        "colab": {
          "base_uri": "https://localhost:8080/"
        },
        "id": "_Izg9porcZtE",
        "outputId": "746bd9fe-fa52-4e44-e079-fe4459747581"
      },
      "source": [
        "np.std(X)**2"
      ],
      "execution_count": 46,
      "outputs": [
        {
          "output_type": "execute_result",
          "data": {
            "text/plain": [
              "0.08337017331449782"
            ]
          },
          "metadata": {
            "tags": []
          },
          "execution_count": 46
        }
      ]
    },
    {
      "cell_type": "code",
      "metadata": {
        "colab": {
          "base_uri": "https://localhost:8080/"
        },
        "id": "ZNorkgKQchq6",
        "outputId": "1a235521-e05b-4358-afe8-88a00ddc08ed"
      },
      "source": [
        "1/12"
      ],
      "execution_count": 47,
      "outputs": [
        {
          "output_type": "execute_result",
          "data": {
            "text/plain": [
              "0.08333333333333333"
            ]
          },
          "metadata": {
            "tags": []
          },
          "execution_count": 47
        }
      ]
    },
    {
      "cell_type": "markdown",
      "metadata": {
        "id": "JudxdbBheG-o"
      },
      "source": [
        "Typing"
      ]
    },
    {
      "cell_type": "code",
      "metadata": {
        "colab": {
          "base_uri": "https://localhost:8080/"
        },
        "id": "kxUnv9Htdh0Q",
        "outputId": "2a814ede-347e-46ee-d336-7b9171aceeec"
      },
      "source": [
        "X.dtype"
      ],
      "execution_count": 48,
      "outputs": [
        {
          "output_type": "execute_result",
          "data": {
            "text/plain": [
              "dtype('float64')"
            ]
          },
          "metadata": {
            "tags": []
          },
          "execution_count": 48
        }
      ]
    },
    {
      "cell_type": "markdown",
      "metadata": {
        "id": "D1lpqJXffSDh"
      },
      "source": [
        "Matrix addition Subtraction\n"
      ]
    },
    {
      "cell_type": "code",
      "metadata": {
        "colab": {
          "base_uri": "https://localhost:8080/"
        },
        "id": "NlLfmVeHfK5V",
        "outputId": "5eb9bac7-2cbd-4c4d-f778-426f2ac45cef"
      },
      "source": [
        "A = np.array([[11, 15, 6],\n",
        "              [13, 4, 5],\n",
        "              [6, 15, 13]])\n",
        "B = np.array([[4, 8, 1],\n",
        "              [1, 6, 3],\n",
        "              [2, 7, 1]])\n",
        "print(A)\n",
        "print(B)"
      ],
      "execution_count": 64,
      "outputs": [
        {
          "output_type": "stream",
          "text": [
            "[[11 15  6]\n",
            " [13  4  5]\n",
            " [ 6 15 13]]\n",
            "[[4 8 1]\n",
            " [1 6 3]\n",
            " [2 7 1]]\n"
          ],
          "name": "stdout"
        }
      ]
    },
    {
      "cell_type": "code",
      "metadata": {
        "colab": {
          "base_uri": "https://localhost:8080/"
        },
        "id": "4AD59TstfvUK",
        "outputId": "676992fb-e1dd-42f5-f1dc-8135de9356a9"
      },
      "source": [
        "C = A+B\n",
        "C"
      ],
      "execution_count": 65,
      "outputs": [
        {
          "output_type": "execute_result",
          "data": {
            "text/plain": [
              "array([[15, 23,  7],\n",
              "       [14, 10,  8],\n",
              "       [ 8, 22, 14]])"
            ]
          },
          "metadata": {
            "tags": []
          },
          "execution_count": 65
        }
      ]
    },
    {
      "cell_type": "code",
      "metadata": {
        "colab": {
          "base_uri": "https://localhost:8080/"
        },
        "id": "cPSLDPphfip5",
        "outputId": "897a867c-6fc6-4ae0-ba90-6d2f2271784e"
      },
      "source": [
        "np.add(A, B) # dtype as optional param"
      ],
      "execution_count": 66,
      "outputs": [
        {
          "output_type": "execute_result",
          "data": {
            "text/plain": [
              "array([[15, 23,  7],\n",
              "       [14, 10,  8],\n",
              "       [ 8, 22, 14]])"
            ]
          },
          "metadata": {
            "tags": []
          },
          "execution_count": 66
        }
      ]
    },
    {
      "cell_type": "code",
      "metadata": {
        "colab": {
          "base_uri": "https://localhost:8080/"
        },
        "id": "VUp9Lra9fuJX",
        "outputId": "a8d9bc76-a563-4831-da1d-6a2ea4be4810"
      },
      "source": [
        "C = A-B\n",
        "C"
      ],
      "execution_count": 67,
      "outputs": [
        {
          "output_type": "execute_result",
          "data": {
            "text/plain": [
              "array([[ 7,  7,  5],\n",
              "       [12, -2,  2],\n",
              "       [ 4,  8, 12]])"
            ]
          },
          "metadata": {
            "tags": []
          },
          "execution_count": 67
        }
      ]
    },
    {
      "cell_type": "code",
      "metadata": {
        "colab": {
          "base_uri": "https://localhost:8080/"
        },
        "id": "ROj4DGibgg8Y",
        "outputId": "295c1f79-b640-410d-a6f3-f7810606bbb7"
      },
      "source": [
        "np.subtract(A, B)"
      ],
      "execution_count": 68,
      "outputs": [
        {
          "output_type": "execute_result",
          "data": {
            "text/plain": [
              "array([[ 7,  7,  5],\n",
              "       [12, -2,  2],\n",
              "       [ 4,  8, 12]])"
            ]
          },
          "metadata": {
            "tags": []
          },
          "execution_count": 68
        }
      ]
    },
    {
      "cell_type": "markdown",
      "metadata": {
        "id": "vgFRm5a7gspg"
      },
      "source": [
        "Matrix Multiplication (pointwise multiplication)\n",
        "and Matrix Division\n",
        "\n"
      ]
    },
    {
      "cell_type": "code",
      "metadata": {
        "colab": {
          "base_uri": "https://localhost:8080/"
        },
        "id": "9qwDk2eegkJc",
        "outputId": "919975b7-ad9d-4211-865c-d96b77bc8309"
      },
      "source": [
        "C = A*B\n",
        "C"
      ],
      "execution_count": 69,
      "outputs": [
        {
          "output_type": "execute_result",
          "data": {
            "text/plain": [
              "array([[ 44, 120,   6],\n",
              "       [ 13,  24,  15],\n",
              "       [ 12, 105,  13]])"
            ]
          },
          "metadata": {
            "tags": []
          },
          "execution_count": 69
        }
      ]
    },
    {
      "cell_type": "code",
      "metadata": {
        "colab": {
          "base_uri": "https://localhost:8080/"
        },
        "id": "LRfrX4Ahgz4j",
        "outputId": "4a9cd9b9-a70b-4d91-9f92-46828a0d182f"
      },
      "source": [
        "np.multiply(A, B)"
      ],
      "execution_count": 70,
      "outputs": [
        {
          "output_type": "execute_result",
          "data": {
            "text/plain": [
              "array([[ 44, 120,   6],\n",
              "       [ 13,  24,  15],\n",
              "       [ 12, 105,  13]])"
            ]
          },
          "metadata": {
            "tags": []
          },
          "execution_count": 70
        }
      ]
    },
    {
      "cell_type": "code",
      "metadata": {
        "colab": {
          "base_uri": "https://localhost:8080/"
        },
        "id": "lLICdJbZg3AX",
        "outputId": "dd1d4dcd-f22c-4244-a836-7582cdd933bc"
      },
      "source": [
        "C = A/B\n",
        "C"
      ],
      "execution_count": 72,
      "outputs": [
        {
          "output_type": "execute_result",
          "data": {
            "text/plain": [
              "array([[ 2.75      ,  1.875     ,  6.        ],\n",
              "       [13.        ,  0.66666667,  1.66666667],\n",
              "       [ 3.        ,  2.14285714, 13.        ]])"
            ]
          },
          "metadata": {
            "tags": []
          },
          "execution_count": 72
        }
      ]
    },
    {
      "cell_type": "code",
      "metadata": {
        "colab": {
          "base_uri": "https://localhost:8080/"
        },
        "id": "U0G_jLneg-cY",
        "outputId": "bb58e1df-5454-4328-a170-1529d0cea7e7"
      },
      "source": [
        "np.divide(A, B)"
      ],
      "execution_count": 73,
      "outputs": [
        {
          "output_type": "execute_result",
          "data": {
            "text/plain": [
              "array([[ 2.75      ,  1.875     ,  6.        ],\n",
              "       [13.        ,  0.66666667,  1.66666667],\n",
              "       [ 3.        ,  2.14285714, 13.        ]])"
            ]
          },
          "metadata": {
            "tags": []
          },
          "execution_count": 73
        }
      ]
    },
    {
      "cell_type": "markdown",
      "metadata": {
        "id": "bpHcd2L4hTFA"
      },
      "source": [
        "# Matrix Products"
      ]
    },
    {
      "cell_type": "code",
      "metadata": {
        "colab": {
          "base_uri": "https://localhost:8080/"
        },
        "id": "68MV6rh3hBAk",
        "outputId": "32ffca05-d67d-4f7f-b9b3-6b3af6edff44"
      },
      "source": [
        "np.matmul(A, B)"
      ],
      "execution_count": 76,
      "outputs": [
        {
          "output_type": "execute_result",
          "data": {
            "text/plain": [
              "array([[ 71, 220,  62],\n",
              "       [ 66, 163,  30],\n",
              "       [ 65, 229,  64]])"
            ]
          },
          "metadata": {
            "tags": []
          },
          "execution_count": 76
        }
      ]
    },
    {
      "cell_type": "markdown",
      "metadata": {
        "id": "fLzwH_ZuhovR"
      },
      "source": [
        "$$C = AB$$"
      ]
    },
    {
      "cell_type": "markdown",
      "metadata": {
        "id": "7tMwDfQzhp7-"
      },
      "source": [
        "$$C_{ij} = \\sum_{k=1}^N A_{ik}B_{kj}$$"
      ]
    },
    {
      "cell_type": "code",
      "metadata": {
        "colab": {
          "base_uri": "https://localhost:8080/"
        },
        "id": "JKWRK0Z9hmEk",
        "outputId": "fe83ead1-6faa-433b-cbae-a0675f2c0970"
      },
      "source": [
        "np.dot(A, B)"
      ],
      "execution_count": 78,
      "outputs": [
        {
          "output_type": "execute_result",
          "data": {
            "text/plain": [
              "array([[ 71, 220,  62],\n",
              "       [ 66, 163,  30],\n",
              "       [ 65, 229,  64]])"
            ]
          },
          "metadata": {
            "tags": []
          },
          "execution_count": 78
        }
      ]
    },
    {
      "cell_type": "markdown",
      "metadata": {
        "id": "CqGIgH1o2YTg"
      },
      "source": [
        "$$<A,B> = A^T B = \\sum_{i=1}^n A_i B_i$$"
      ]
    },
    {
      "cell_type": "code",
      "metadata": {
        "id": "CoJnr8Lh116P"
      },
      "source": [
        ""
      ],
      "execution_count": null,
      "outputs": []
    },
    {
      "cell_type": "code",
      "metadata": {
        "id": "Cu_Pf-Gsi-oc"
      },
      "source": [
        "transpose"
      ],
      "execution_count": null,
      "outputs": []
    }
  ]
}