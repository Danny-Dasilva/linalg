{
  "nbformat": 4,
  "nbformat_minor": 0,
  "metadata": {
    "colab": {
      "name": "Untitled0.ipynb",
      "provenance": [],
      "authorship_tag": "ABX9TyO5j7Edf2BoiRPupcWdi/zb",
      "include_colab_link": true
    },
    "kernelspec": {
      "name": "python3",
      "display_name": "Python 3"
    }
  },
  "cells": [
    {
      "cell_type": "markdown",
      "metadata": {
        "id": "view-in-github",
        "colab_type": "text"
      },
      "source": [
        "<a href=\"https://colab.research.google.com/github/Danny-Dasilva/linalg/blob/main/numpy.ipynb\" target=\"_parent\"><img src=\"https://colab.research.google.com/assets/colab-badge.svg\" alt=\"Open In Colab\"/></a>"
      ]
    },
    {
      "cell_type": "code",
      "metadata": {
        "id": "2_b97JbmZXaj"
      },
      "source": [
        "import numpy as np"
      ],
      "execution_count": 2,
      "outputs": []
    },
    {
      "cell_type": "code",
      "metadata": {
        "id": "OkiZe7ueZ735"
      },
      "source": [
        "a = np.array([100, 20, 30, 40, 50])"
      ],
      "execution_count": 3,
      "outputs": []
    },
    {
      "cell_type": "markdown",
      "metadata": {
        "id": "iGy5xm6KZwtf"
      },
      "source": [
        "Array dimensions\n",
        "\n",
        "\n",
        "\n",
        "\n"
      ]
    },
    {
      "cell_type": "code",
      "metadata": {
        "colab": {
          "base_uri": "https://localhost:8080/"
        },
        "id": "wySHxsbxZsvX",
        "outputId": "cd7e6f27-2275-4f74-8ec1-14cffe9c9dc0"
      },
      "source": [
        "a.shape"
      ],
      "execution_count": 4,
      "outputs": [
        {
          "output_type": "execute_result",
          "data": {
            "text/plain": [
              "(5,)"
            ]
          },
          "metadata": {
            "tags": []
          },
          "execution_count": 4
        }
      ]
    },
    {
      "cell_type": "code",
      "metadata": {
        "id": "h8qgV6zQZ5U6"
      },
      "source": [
        "A = np.array([[3, 3, 3], \n",
        "              [4, 4, 4],\n",
        "              [5, 5, 5]])"
      ],
      "execution_count": 6,
      "outputs": []
    },
    {
      "cell_type": "code",
      "metadata": {
        "colab": {
          "base_uri": "https://localhost:8080/"
        },
        "id": "jH9Sg65maOUs",
        "outputId": "1b07877c-b6d0-4b58-c387-86a546ad2cbd"
      },
      "source": [
        "A.shape"
      ],
      "execution_count": 8,
      "outputs": [
        {
          "output_type": "execute_result",
          "data": {
            "text/plain": [
              "(3, 3)"
            ]
          },
          "metadata": {
            "tags": []
          },
          "execution_count": 8
        }
      ]
    },
    {
      "cell_type": "markdown",
      "metadata": {
        "id": "zG-r5t6QaYYI"
      },
      "source": [
        "Pulling a submatrix"
      ]
    },
    {
      "cell_type": "code",
      "metadata": {
        "id": "rnywrvXJaTTM"
      },
      "source": [
        "B = A[1:2]"
      ],
      "execution_count": 13,
      "outputs": []
    },
    {
      "cell_type": "code",
      "metadata": {
        "colab": {
          "base_uri": "https://localhost:8080/"
        },
        "id": "xNuDicqRadiZ",
        "outputId": "e8f19dd2-a5d1-4e91-df3c-81073171909e"
      },
      "source": [
        "B"
      ],
      "execution_count": 14,
      "outputs": [
        {
          "output_type": "execute_result",
          "data": {
            "text/plain": [
              "array([[4, 4, 4]])"
            ]
          },
          "metadata": {
            "tags": []
          },
          "execution_count": 14
        }
      ]
    },
    {
      "cell_type": "markdown",
      "metadata": {
        "id": "zn6fCGxfay9y"
      },
      "source": [
        "Special Matrices"
      ]
    },
    {
      "cell_type": "code",
      "metadata": {
        "id": "wrbt4imTa0NF"
      },
      "source": [
        "I = np.eye(3)"
      ],
      "execution_count": 17,
      "outputs": []
    },
    {
      "cell_type": "code",
      "metadata": {
        "colab": {
          "base_uri": "https://localhost:8080/"
        },
        "id": "6lwYafkMa3u_",
        "outputId": "15419d18-e57d-4a8a-ca5b-7c379579848c"
      },
      "source": [
        "I"
      ],
      "execution_count": 18,
      "outputs": [
        {
          "output_type": "execute_result",
          "data": {
            "text/plain": [
              "array([[1., 0., 0.],\n",
              "       [0., 1., 0.],\n",
              "       [0., 0., 1.]])"
            ]
          },
          "metadata": {
            "tags": []
          },
          "execution_count": 18
        }
      ]
    },
    {
      "cell_type": "code",
      "metadata": {
        "colab": {
          "base_uri": "https://localhost:8080/"
        },
        "id": "2X1RTubua4Ig",
        "outputId": "baaffd34-67cb-471f-9b0d-a7cf89d140a8"
      },
      "source": [
        "np.zeros((5,5))"
      ],
      "execution_count": 23,
      "outputs": [
        {
          "output_type": "execute_result",
          "data": {
            "text/plain": [
              "array([[0., 0., 0., 0., 0.],\n",
              "       [0., 0., 0., 0., 0.],\n",
              "       [0., 0., 0., 0., 0.],\n",
              "       [0., 0., 0., 0., 0.],\n",
              "       [0., 0., 0., 0., 0.]])"
            ]
          },
          "metadata": {
            "tags": []
          },
          "execution_count": 23
        }
      ]
    },
    {
      "cell_type": "code",
      "metadata": {
        "colab": {
          "base_uri": "https://localhost:8080/"
        },
        "id": "vQE_-V46bCF6",
        "outputId": "7a327c3d-d5b6-478d-c577-98c4a0e8de75"
      },
      "source": [
        "np.ones((6, 4))"
      ],
      "execution_count": 24,
      "outputs": [
        {
          "output_type": "execute_result",
          "data": {
            "text/plain": [
              "array([[1., 1., 1., 1.],\n",
              "       [1., 1., 1., 1.],\n",
              "       [1., 1., 1., 1.],\n",
              "       [1., 1., 1., 1.],\n",
              "       [1., 1., 1., 1.],\n",
              "       [1., 1., 1., 1.]])"
            ]
          },
          "metadata": {
            "tags": []
          },
          "execution_count": 24
        }
      ]
    },
    {
      "cell_type": "code",
      "metadata": {
        "colab": {
          "base_uri": "https://localhost:8080/"
        },
        "id": "8dd5SewdbZN9",
        "outputId": "9bba9141-d345-463b-f011-4728ef284ad1"
      },
      "source": [
        "np.full((4, 5), 10)"
      ],
      "execution_count": 26,
      "outputs": [
        {
          "output_type": "execute_result",
          "data": {
            "text/plain": [
              "array([[10, 10, 10, 10, 10],\n",
              "       [10, 10, 10, 10, 10],\n",
              "       [10, 10, 10, 10, 10],\n",
              "       [10, 10, 10, 10, 10]])"
            ]
          },
          "metadata": {
            "tags": []
          },
          "execution_count": 26
        }
      ]
    },
    {
      "cell_type": "code",
      "metadata": {
        "colab": {
          "base_uri": "https://localhost:8080/"
        },
        "id": "hBw4IJNycC_o",
        "outputId": "e6a89743-a239-400a-8bf5-c0ef130c99d5"
      },
      "source": [
        "X = np.random.random((2000,2))\n",
        "X"
      ],
      "execution_count": 44,
      "outputs": [
        {
          "output_type": "execute_result",
          "data": {
            "text/plain": [
              "array([[0.1994887 , 0.36911355],\n",
              "       [0.76221234, 0.70940047],\n",
              "       [0.07891759, 0.71977367],\n",
              "       ...,\n",
              "       [0.23711553, 0.21917329],\n",
              "       [0.69908414, 0.18267961],\n",
              "       [0.30755806, 0.22313901]])"
            ]
          },
          "metadata": {
            "tags": []
          },
          "execution_count": 44
        }
      ]
    },
    {
      "cell_type": "markdown",
      "metadata": {
        "id": "xxtav3VecXMD"
      },
      "source": [
        "Calculations\n"
      ]
    },
    {
      "cell_type": "code",
      "metadata": {
        "colab": {
          "base_uri": "https://localhost:8080/"
        },
        "id": "BKaAyTCycPGI",
        "outputId": "aa026201-0a18-4ccc-fb00-6c72b7da48f3"
      },
      "source": [
        "np.mean(X)"
      ],
      "execution_count": 45,
      "outputs": [
        {
          "output_type": "execute_result",
          "data": {
            "text/plain": [
              "0.5014596328839194"
            ]
          },
          "metadata": {
            "tags": []
          },
          "execution_count": 45
        }
      ]
    },
    {
      "cell_type": "markdown",
      "metadata": {
        "id": "MayXYG7Dcko_"
      },
      "source": [
        "Standard deviation\n",
        "$$Var(X) = E(X^2) - E^2(X) = \\int_{0}^1 x^2 \\ dx - \\frac{1}{4} = \\frac{1}{3} - \\frac{1}{4} = \\frac{1}{12}$$"
      ]
    },
    {
      "cell_type": "code",
      "metadata": {
        "colab": {
          "base_uri": "https://localhost:8080/"
        },
        "id": "_Izg9porcZtE",
        "outputId": "746bd9fe-fa52-4e44-e079-fe4459747581"
      },
      "source": [
        "np.std(X)**2"
      ],
      "execution_count": 46,
      "outputs": [
        {
          "output_type": "execute_result",
          "data": {
            "text/plain": [
              "0.08337017331449782"
            ]
          },
          "metadata": {
            "tags": []
          },
          "execution_count": 46
        }
      ]
    },
    {
      "cell_type": "code",
      "metadata": {
        "colab": {
          "base_uri": "https://localhost:8080/"
        },
        "id": "ZNorkgKQchq6",
        "outputId": "1a235521-e05b-4358-afe8-88a00ddc08ed"
      },
      "source": [
        "1/12"
      ],
      "execution_count": 47,
      "outputs": [
        {
          "output_type": "execute_result",
          "data": {
            "text/plain": [
              "0.08333333333333333"
            ]
          },
          "metadata": {
            "tags": []
          },
          "execution_count": 47
        }
      ]
    },
    {
      "cell_type": "markdown",
      "metadata": {
        "id": "JudxdbBheG-o"
      },
      "source": [
        "Typing"
      ]
    },
    {
      "cell_type": "code",
      "metadata": {
        "colab": {
          "base_uri": "https://localhost:8080/"
        },
        "id": "kxUnv9Htdh0Q",
        "outputId": "2a814ede-347e-46ee-d336-7b9171aceeec"
      },
      "source": [
        "X.dtype"
      ],
      "execution_count": 48,
      "outputs": [
        {
          "output_type": "execute_result",
          "data": {
            "text/plain": [
              "dtype('float64')"
            ]
          },
          "metadata": {
            "tags": []
          },
          "execution_count": 48
        }
      ]
    },
    {
      "cell_type": "markdown",
      "metadata": {
        "id": "D1lpqJXffSDh"
      },
      "source": [
        "Matrix addition Subtraction\n"
      ]
    },
    {
      "cell_type": "code",
      "metadata": {
        "colab": {
          "base_uri": "https://localhost:8080/"
        },
        "id": "NlLfmVeHfK5V",
        "outputId": "0e92a590-9cdc-4e99-d6e0-16cd86871641"
      },
      "source": [
        "A = np.array([[1, 5, 6],\n",
        "              [1, 8, 9],\n",
        "              [0, -1, 6]])\n",
        "B = np.array([[4, 8, 1],\n",
        "              [1, 6, 3],\n",
        "              [2, 7, 1]])\n",
        "print(A)\n",
        "print(B)"
      ],
      "execution_count": 25,
      "outputs": [
        {
          "output_type": "stream",
          "text": [
            "[[ 1  5  6]\n",
            " [ 1  8  9]\n",
            " [ 0 -1  6]]\n",
            "[[4 8 1]\n",
            " [1 6 3]\n",
            " [2 7 1]]\n"
          ],
          "name": "stdout"
        }
      ]
    },
    {
      "cell_type": "code",
      "metadata": {
        "colab": {
          "base_uri": "https://localhost:8080/"
        },
        "id": "4AD59TstfvUK",
        "outputId": "d77cb4ff-9eb4-4d69-d356-c80f014ac58e"
      },
      "source": [
        "C = A+B\n",
        "C"
      ],
      "execution_count": 4,
      "outputs": [
        {
          "output_type": "execute_result",
          "data": {
            "text/plain": [
              "array([[15, 23,  7],\n",
              "       [14, 10,  8],\n",
              "       [ 8, 22, 14]])"
            ]
          },
          "metadata": {
            "tags": []
          },
          "execution_count": 4
        }
      ]
    },
    {
      "cell_type": "code",
      "metadata": {
        "colab": {
          "base_uri": "https://localhost:8080/"
        },
        "id": "cPSLDPphfip5",
        "outputId": "d0c39d11-f10c-4623-c69e-08d7ffd1309e"
      },
      "source": [
        "np.add(A, B) # dtype as optional param"
      ],
      "execution_count": 5,
      "outputs": [
        {
          "output_type": "execute_result",
          "data": {
            "text/plain": [
              "array([[15, 23,  7],\n",
              "       [14, 10,  8],\n",
              "       [ 8, 22, 14]])"
            ]
          },
          "metadata": {
            "tags": []
          },
          "execution_count": 5
        }
      ]
    },
    {
      "cell_type": "code",
      "metadata": {
        "colab": {
          "base_uri": "https://localhost:8080/"
        },
        "id": "VUp9Lra9fuJX",
        "outputId": "d55909b4-a3a1-4801-cc73-48363bb77b31"
      },
      "source": [
        "C = A-B\n",
        "C"
      ],
      "execution_count": 6,
      "outputs": [
        {
          "output_type": "execute_result",
          "data": {
            "text/plain": [
              "array([[ 7,  7,  5],\n",
              "       [12, -2,  2],\n",
              "       [ 4,  8, 12]])"
            ]
          },
          "metadata": {
            "tags": []
          },
          "execution_count": 6
        }
      ]
    },
    {
      "cell_type": "code",
      "metadata": {
        "colab": {
          "base_uri": "https://localhost:8080/"
        },
        "id": "ROj4DGibgg8Y",
        "outputId": "9b322426-97a0-46a8-e434-89e42b61afe1"
      },
      "source": [
        "np.subtract(A, B)"
      ],
      "execution_count": 7,
      "outputs": [
        {
          "output_type": "execute_result",
          "data": {
            "text/plain": [
              "array([[ 7,  7,  5],\n",
              "       [12, -2,  2],\n",
              "       [ 4,  8, 12]])"
            ]
          },
          "metadata": {
            "tags": []
          },
          "execution_count": 7
        }
      ]
    },
    {
      "cell_type": "markdown",
      "metadata": {
        "id": "vgFRm5a7gspg"
      },
      "source": [
        "Matrix Multiplication (pointwise multiplication)\n",
        "and Matrix Division\n",
        "\n"
      ]
    },
    {
      "cell_type": "code",
      "metadata": {
        "colab": {
          "base_uri": "https://localhost:8080/"
        },
        "id": "9qwDk2eegkJc",
        "outputId": "de2856c6-ab1e-4a29-90df-814eb22f532d"
      },
      "source": [
        "C = A*B\n",
        "C"
      ],
      "execution_count": 8,
      "outputs": [
        {
          "output_type": "execute_result",
          "data": {
            "text/plain": [
              "array([[ 44, 120,   6],\n",
              "       [ 13,  24,  15],\n",
              "       [ 12, 105,  13]])"
            ]
          },
          "metadata": {
            "tags": []
          },
          "execution_count": 8
        }
      ]
    },
    {
      "cell_type": "code",
      "metadata": {
        "colab": {
          "base_uri": "https://localhost:8080/"
        },
        "id": "LRfrX4Ahgz4j",
        "outputId": "f1779ae7-d771-46cc-80aa-b9581c6cf7bd"
      },
      "source": [
        "np.multiply(A, B)"
      ],
      "execution_count": 9,
      "outputs": [
        {
          "output_type": "execute_result",
          "data": {
            "text/plain": [
              "array([[ 44, 120,   6],\n",
              "       [ 13,  24,  15],\n",
              "       [ 12, 105,  13]])"
            ]
          },
          "metadata": {
            "tags": []
          },
          "execution_count": 9
        }
      ]
    },
    {
      "cell_type": "code",
      "metadata": {
        "colab": {
          "base_uri": "https://localhost:8080/"
        },
        "id": "lLICdJbZg3AX",
        "outputId": "bb25d78f-0315-44af-ee72-810e0041e1c8"
      },
      "source": [
        "C = A/B\n",
        "C"
      ],
      "execution_count": 10,
      "outputs": [
        {
          "output_type": "execute_result",
          "data": {
            "text/plain": [
              "array([[ 2.75      ,  1.875     ,  6.        ],\n",
              "       [13.        ,  0.66666667,  1.66666667],\n",
              "       [ 3.        ,  2.14285714, 13.        ]])"
            ]
          },
          "metadata": {
            "tags": []
          },
          "execution_count": 10
        }
      ]
    },
    {
      "cell_type": "code",
      "metadata": {
        "colab": {
          "base_uri": "https://localhost:8080/"
        },
        "id": "U0G_jLneg-cY",
        "outputId": "0ca5e802-aa35-4692-a108-6c6e841ab7ae"
      },
      "source": [
        "np.divide(A, B)"
      ],
      "execution_count": 11,
      "outputs": [
        {
          "output_type": "execute_result",
          "data": {
            "text/plain": [
              "array([[ 2.75      ,  1.875     ,  6.        ],\n",
              "       [13.        ,  0.66666667,  1.66666667],\n",
              "       [ 3.        ,  2.14285714, 13.        ]])"
            ]
          },
          "metadata": {
            "tags": []
          },
          "execution_count": 11
        }
      ]
    },
    {
      "cell_type": "markdown",
      "metadata": {
        "id": "bpHcd2L4hTFA"
      },
      "source": [
        "# Matrix Products"
      ]
    },
    {
      "cell_type": "code",
      "metadata": {
        "colab": {
          "base_uri": "https://localhost:8080/"
        },
        "id": "68MV6rh3hBAk",
        "outputId": "67d35e80-1a03-4e11-f632-bd0dea13f263"
      },
      "source": [
        "np.matmul(A, B)"
      ],
      "execution_count": 12,
      "outputs": [
        {
          "output_type": "execute_result",
          "data": {
            "text/plain": [
              "array([[ 71, 220,  62],\n",
              "       [ 66, 163,  30],\n",
              "       [ 65, 229,  64]])"
            ]
          },
          "metadata": {
            "tags": []
          },
          "execution_count": 12
        }
      ]
    },
    {
      "cell_type": "markdown",
      "metadata": {
        "id": "fLzwH_ZuhovR"
      },
      "source": [
        "$$C = AB$$"
      ]
    },
    {
      "cell_type": "markdown",
      "metadata": {
        "id": "7tMwDfQzhp7-"
      },
      "source": [
        "$$C_{ij} = \\sum_{k=1}^N A_{ik}B_{kj}$$"
      ]
    },
    {
      "cell_type": "code",
      "metadata": {
        "colab": {
          "base_uri": "https://localhost:8080/"
        },
        "id": "JKWRK0Z9hmEk",
        "outputId": "fe83ead1-6faa-433b-cbae-a0675f2c0970"
      },
      "source": [
        "np.dot(A, B)"
      ],
      "execution_count": 78,
      "outputs": [
        {
          "output_type": "execute_result",
          "data": {
            "text/plain": [
              "array([[ 71, 220,  62],\n",
              "       [ 66, 163,  30],\n",
              "       [ 65, 229,  64]])"
            ]
          },
          "metadata": {
            "tags": []
          },
          "execution_count": 78
        }
      ]
    },
    {
      "cell_type": "markdown",
      "metadata": {
        "id": "CqGIgH1o2YTg"
      },
      "source": [
        "$$<A,B> = A^T B = \\sum_{i=1}^n A_i B_i$$"
      ]
    },
    {
      "cell_type": "code",
      "metadata": {
        "colab": {
          "base_uri": "https://localhost:8080/"
        },
        "id": "CoJnr8Lh116P",
        "outputId": "d5537e6c-653d-4287-a6ba-dcf70cfe0bbe"
      },
      "source": [
        "np.inner(A,B)"
      ],
      "execution_count": 13,
      "outputs": [
        {
          "output_type": "execute_result",
          "data": {
            "text/plain": [
              "array([[170, 119, 133],\n",
              "       [ 89,  52,  59],\n",
              "       [157, 135, 130]])"
            ]
          },
          "metadata": {
            "tags": []
          },
          "execution_count": 13
        }
      ]
    },
    {
      "cell_type": "code",
      "metadata": {
        "colab": {
          "base_uri": "https://localhost:8080/"
        },
        "id": "_-ed78UIqzdR",
        "outputId": "573ecb21-7d98-4acd-c206-791340857e64"
      },
      "source": [
        "np.tensordot(A,B, axes=([1,0], [0,1]))"
      ],
      "execution_count": 15,
      "outputs": [
        {
          "output_type": "execute_result",
          "data": {
            "text/plain": [
              "array(298)"
            ]
          },
          "metadata": {
            "tags": []
          },
          "execution_count": 15
        }
      ]
    },
    {
      "cell_type": "code",
      "metadata": {
        "colab": {
          "base_uri": "https://localhost:8080/"
        },
        "id": "tgELzbI3riut",
        "outputId": "19e31803-694e-43f9-91bd-3e91588bb5d7"
      },
      "source": [
        "np.linalg.matrix_power(A, 1)"
      ],
      "execution_count": 16,
      "outputs": [
        {
          "output_type": "execute_result",
          "data": {
            "text/plain": [
              "array([[11, 15,  6],\n",
              "       [13,  4,  5],\n",
              "       [ 6, 15, 13]])"
            ]
          },
          "metadata": {
            "tags": []
          },
          "execution_count": 16
        }
      ]
    },
    {
      "cell_type": "markdown",
      "metadata": {
        "id": "N4V6mMlHzym8"
      },
      "source": [
        "$$C = A \\odot B $$"
      ]
    },
    {
      "cell_type": "code",
      "metadata": {
        "colab": {
          "base_uri": "https://localhost:8080/"
        },
        "id": "yDRcWf6Nz6Xz",
        "outputId": "1aac7a6b-b100-4488-95e8-00d5e506a8fb"
      },
      "source": [
        "np.kron (A,B)"
      ],
      "execution_count": 18,
      "outputs": [
        {
          "output_type": "execute_result",
          "data": {
            "text/plain": [
              "array([[ 44,  88,  11,  60, 120,  15,  24,  48,   6],\n",
              "       [ 11,  66,  33,  15,  90,  45,   6,  36,  18],\n",
              "       [ 22,  77,  11,  30, 105,  15,  12,  42,   6],\n",
              "       [ 52, 104,  13,  16,  32,   4,  20,  40,   5],\n",
              "       [ 13,  78,  39,   4,  24,  12,   5,  30,  15],\n",
              "       [ 26,  91,  13,   8,  28,   4,  10,  35,   5],\n",
              "       [ 24,  48,   6,  60, 120,  15,  52, 104,  13],\n",
              "       [  6,  36,  18,  15,  90,  45,  13,  78,  39],\n",
              "       [ 12,  42,   6,  30, 105,  15,  26,  91,  13]])"
            ]
          },
          "metadata": {
            "tags": []
          },
          "execution_count": 18
        }
      ]
    },
    {
      "cell_type": "markdown",
      "metadata": {
        "id": "LDWo8HuG1xcW"
      },
      "source": [
        "#Matrix Decompositions\n"
      ]
    },
    {
      "cell_type": "markdown",
      "metadata": {
        "id": "uVVImnFm2Aic"
      },
      "source": [
        "Cholesky Decomposition $$A = UU^U$$"
      ]
    },
    {
      "cell_type": "code",
      "metadata": {
        "colab": {
          "base_uri": "https://localhost:8080/"
        },
        "id": "90mmCcUu11VA",
        "outputId": "d99aa216-0fa2-4f77-be31-e09a7f355a0c"
      },
      "source": [
        "U = np.linalg.cholesky(A)\n",
        "U"
      ],
      "execution_count": 29,
      "outputs": [
        {
          "output_type": "execute_result",
          "data": {
            "text/plain": [
              "array([[ 1.        ,  0.        ,  0.        ],\n",
              "       [ 1.        ,  2.64575131,  0.        ],\n",
              "       [ 0.        , -0.37796447,  2.42015348]])"
            ]
          },
          "metadata": {
            "tags": []
          },
          "execution_count": 29
        }
      ]
    },
    {
      "cell_type": "code",
      "metadata": {
        "colab": {
          "base_uri": "https://localhost:8080/"
        },
        "id": "0S1N-hlu--u4",
        "outputId": "50e676dd-c71d-4be4-a72e-e4b132079b30"
      },
      "source": [
        "np.matmul(U, U.transpose().conj())"
      ],
      "execution_count": 30,
      "outputs": [
        {
          "output_type": "execute_result",
          "data": {
            "text/plain": [
              "array([[ 1.,  1.,  0.],\n",
              "       [ 1.,  8., -1.],\n",
              "       [ 0., -1.,  6.]])"
            ]
          },
          "metadata": {
            "tags": []
          },
          "execution_count": 30
        }
      ]
    },
    {
      "cell_type": "code",
      "metadata": {
        "id": "-gPdW0YG_R5V"
      },
      "source": [
        "D = np.array(([1, -2j], [2j, 5]))"
      ],
      "execution_count": 32,
      "outputs": []
    },
    {
      "cell_type": "code",
      "metadata": {
        "colab": {
          "base_uri": "https://localhost:8080/"
        },
        "id": "AiZgP5R-_h07",
        "outputId": "52043e51-f2c9-4147-ba43-09f72dcc99cd"
      },
      "source": [
        "D"
      ],
      "execution_count": 34,
      "outputs": [
        {
          "output_type": "execute_result",
          "data": {
            "text/plain": [
              "array([[ 1.+0.j, -0.-2.j],\n",
              "       [ 0.+2.j,  5.+0.j]])"
            ]
          },
          "metadata": {
            "tags": []
          },
          "execution_count": 34
        }
      ]
    },
    {
      "cell_type": "code",
      "metadata": {
        "colab": {
          "base_uri": "https://localhost:8080/"
        },
        "id": "Fh0Fc-uW_olO",
        "outputId": "7410bf3d-d877-464d-ff75-35fdc0fcc2bc"
      },
      "source": [
        "U = np.linalg.cholesky(D)\n",
        "U"
      ],
      "execution_count": 37,
      "outputs": [
        {
          "output_type": "execute_result",
          "data": {
            "text/plain": [
              "array([[1.+0.j, 0.+0.j],\n",
              "       [0.+2.j, 1.+0.j]])"
            ]
          },
          "metadata": {
            "tags": []
          },
          "execution_count": 37
        }
      ]
    },
    {
      "cell_type": "code",
      "metadata": {
        "colab": {
          "base_uri": "https://localhost:8080/"
        },
        "id": "VzgDQLCu_rjA",
        "outputId": "db0ff02a-2129-4fe2-d55a-b002a9226bb5"
      },
      "source": [
        "np.matmul(U, U.T.conj())"
      ],
      "execution_count": 38,
      "outputs": [
        {
          "output_type": "execute_result",
          "data": {
            "text/plain": [
              "array([[1.+0.j, 0.-2.j],\n",
              "       [0.+2.j, 5.+0.j]])"
            ]
          },
          "metadata": {
            "tags": []
          },
          "execution_count": 38
        }
      ]
    },
    {
      "cell_type": "markdown",
      "metadata": {
        "id": "0t3l8ltvAESg"
      },
      "source": [
        "QR decomposition $$A= QR$$"
      ]
    },
    {
      "cell_type": "code",
      "metadata": {
        "colab": {
          "base_uri": "https://localhost:8080/"
        },
        "id": "HkEF-y2XAJGO",
        "outputId": "771c35de-dac8-4003-d4ff-5c50eae4443f"
      },
      "source": [
        "A"
      ],
      "execution_count": 39,
      "outputs": [
        {
          "output_type": "execute_result",
          "data": {
            "text/plain": [
              "array([[ 1,  5,  6],\n",
              "       [ 1,  8,  9],\n",
              "       [ 0, -1,  6]])"
            ]
          },
          "metadata": {
            "tags": []
          },
          "execution_count": 39
        }
      ]
    },
    {
      "cell_type": "code",
      "metadata": {
        "id": "_GMIh9oZALFv"
      },
      "source": [
        "Q = np.linalg.qr(A)[0]\n",
        "R = np.linalg.qr(A)[1]\n"
      ],
      "execution_count": 43,
      "outputs": []
    },
    {
      "cell_type": "code",
      "metadata": {
        "colab": {
          "base_uri": "https://localhost:8080/"
        },
        "id": "c3uQ6AM2APa7",
        "outputId": "5637dc27-c603-46f3-eb0c-c5433bc7d97b"
      },
      "source": [
        "np.matmul(Q,R)"
      ],
      "execution_count": 44,
      "outputs": [
        {
          "output_type": "execute_result",
          "data": {
            "text/plain": [
              "array([[ 1.,  5.,  6.],\n",
              "       [ 1.,  8.,  9.],\n",
              "       [ 0., -1.,  6.]])"
            ]
          },
          "metadata": {
            "tags": []
          },
          "execution_count": 44
        }
      ]
    },
    {
      "cell_type": "markdown",
      "metadata": {
        "id": "VNYyzoN5JUD-"
      },
      "source": [
        "EigenValue Decomposition (EVD) $$A = PDP^{-1}$$"
      ]
    },
    {
      "cell_type": "code",
      "metadata": {
        "colab": {
          "base_uri": "https://localhost:8080/"
        },
        "id": "WScecfABJelh",
        "outputId": "e355478c-d78b-4f10-e9e5-5525c306288c"
      },
      "source": [
        "(d,P) = np.linalg.eig(A)\n",
        "print(d, P)\n",
        "D = np.diag(d)\n",
        "print(D)"
      ],
      "execution_count": 47,
      "outputs": [
        {
          "output_type": "stream",
          "text": [
            "[0.34454138+0.j         7.32772931+2.69350537j 7.32772931-2.69350537j] [[ 0.9940235 +0.j          0.52656174+0.00429702j  0.52656174-0.00429702j]\n",
            " [-0.10749871+0.j          0.80658014+0.j          0.80658014-0.j        ]\n",
            " [-0.01900796+0.j         -0.11875577+0.24091455j -0.11875577-0.24091455j]]\n",
            "[[0.34454138+0.j         0.        +0.j         0.        +0.j        ]\n",
            " [0.        +0.j         7.32772931+2.69350537j 0.        +0.j        ]\n",
            " [0.        +0.j         0.        +0.j         7.32772931-2.69350537j]]\n"
          ],
          "name": "stdout"
        }
      ]
    },
    {
      "cell_type": "code",
      "metadata": {
        "colab": {
          "base_uri": "https://localhost:8080/"
        },
        "id": "CIQbJX8qJiRA",
        "outputId": "7250e2dc-2979-43d8-d038-d9d772bb9331"
      },
      "source": [
        "np.real(np.matmul(np.matmul(P,D), np.linalg.inv(P)))"
      ],
      "execution_count": 49,
      "outputs": [
        {
          "output_type": "execute_result",
          "data": {
            "text/plain": [
              "array([[ 1.00000000e+00,  5.00000000e+00,  6.00000000e+00],\n",
              "       [ 1.00000000e+00,  8.00000000e+00,  9.00000000e+00],\n",
              "       [-5.55111512e-17, -1.00000000e+00,  6.00000000e+00]])"
            ]
          },
          "metadata": {
            "tags": []
          },
          "execution_count": 49
        }
      ]
    },
    {
      "cell_type": "code",
      "metadata": {
        "colab": {
          "base_uri": "https://localhost:8080/"
        },
        "id": "O5Hyu120J6rW",
        "outputId": "3439c6f7-fd37-4ed3-e578-46acd7464add"
      },
      "source": [
        "np.linalg.eigvals(A)"
      ],
      "execution_count": 50,
      "outputs": [
        {
          "output_type": "execute_result",
          "data": {
            "text/plain": [
              "array([0.34454138+0.j        , 7.32772931+2.69350537j,\n",
              "       7.32772931-2.69350537j])"
            ]
          },
          "metadata": {
            "tags": []
          },
          "execution_count": 50
        }
      ]
    },
    {
      "cell_type": "markdown",
      "metadata": {
        "id": "WGvvKKW5KGP-"
      },
      "source": [
        "Singular Valued Decomposition (SVD) $$A = U S V^T $$"
      ]
    },
    {
      "cell_type": "code",
      "metadata": {
        "colab": {
          "base_uri": "https://localhost:8080/"
        },
        "id": "mVPNl1rTKONQ",
        "outputId": "8968dd9a-f6ab-46fa-98d0-93b7124acbd1"
      },
      "source": [
        "(U,s,V) = np.linalg.svd(A)\n",
        "print(U, s, V)"
      ],
      "execution_count": 52,
      "outputs": [
        {
          "output_type": "stream",
          "text": [
            "[[ 0.52419682 -0.12063215  0.84300983]\n",
            " [ 0.80286468 -0.26006138 -0.53644792]\n",
            " [ 0.28394717  0.95802712 -0.03947205]] [14.9764806   4.53978289  0.30886909] [[ 0.0886097   0.58491408  0.80624056]\n",
            " [-0.08385721 -0.80217028  0.59117747]\n",
            " [ 0.99253025 -0.11999315 -0.02203081]]\n"
          ],
          "name": "stdout"
        }
      ]
    },
    {
      "cell_type": "markdown",
      "metadata": {
        "id": "pw85Q-bfKaR2"
      },
      "source": [
        "# Matrix Norms\n"
      ]
    },
    {
      "cell_type": "code",
      "metadata": {
        "colab": {
          "base_uri": "https://localhost:8080/"
        },
        "id": "7NUtM13gKbrr",
        "outputId": "467fb5a8-5872-4e89-e532-90733924efbf"
      },
      "source": [
        "np.linalg.norm(A)"
      ],
      "execution_count": 53,
      "outputs": [
        {
          "output_type": "execute_result",
          "data": {
            "text/plain": [
              "15.652475842498529"
            ]
          },
          "metadata": {
            "tags": []
          },
          "execution_count": 53
        }
      ]
    },
    {
      "cell_type": "code",
      "metadata": {
        "colab": {
          "base_uri": "https://localhost:8080/"
        },
        "id": "aDKB84b0Kdl3",
        "outputId": "53054945-303f-4f9e-ab76-693260fa3d42"
      },
      "source": [
        "np.linalg.cond(A)"
      ],
      "execution_count": 54,
      "outputs": [
        {
          "output_type": "execute_result",
          "data": {
            "text/plain": [
              "48.48811774406207"
            ]
          },
          "metadata": {
            "tags": []
          },
          "execution_count": 54
        }
      ]
    },
    {
      "cell_type": "code",
      "metadata": {
        "colab": {
          "base_uri": "https://localhost:8080/"
        },
        "id": "MFswSWq3Kfph",
        "outputId": "6a5641c8-b061-4082-b7be-980a922a6d73"
      },
      "source": [
        "np.linalg.det(A)"
      ],
      "execution_count": 55,
      "outputs": [
        {
          "output_type": "execute_result",
          "data": {
            "text/plain": [
              "21.0"
            ]
          },
          "metadata": {
            "tags": []
          },
          "execution_count": 55
        }
      ]
    },
    {
      "cell_type": "code",
      "metadata": {
        "colab": {
          "base_uri": "https://localhost:8080/"
        },
        "id": "1qIRMMZbKkvz",
        "outputId": "756b3922-8913-46e2-e7b9-414db74fcec4"
      },
      "source": [
        "np.linalg.matrix_rank(A)"
      ],
      "execution_count": 56,
      "outputs": [
        {
          "output_type": "execute_result",
          "data": {
            "text/plain": [
              "3"
            ]
          },
          "metadata": {
            "tags": []
          },
          "execution_count": 56
        }
      ]
    },
    {
      "cell_type": "code",
      "metadata": {
        "colab": {
          "base_uri": "https://localhost:8080/"
        },
        "id": "TpUNA-jEKouL",
        "outputId": "ce811db6-cbd7-4143-a52a-4aa1f6bd4fef"
      },
      "source": [
        "np.trace(A)"
      ],
      "execution_count": 57,
      "outputs": [
        {
          "output_type": "execute_result",
          "data": {
            "text/plain": [
              "15"
            ]
          },
          "metadata": {
            "tags": []
          },
          "execution_count": 57
        }
      ]
    },
    {
      "cell_type": "markdown",
      "metadata": {
        "id": "J7MoO4lwK2WD"
      },
      "source": [
        "# Solving Equations"
      ]
    },
    {
      "cell_type": "markdown",
      "metadata": {
        "id": "Ha8_MrfEK89Y"
      },
      "source": [
        "$$ Ax = b $$"
      ]
    },
    {
      "cell_type": "code",
      "metadata": {
        "colab": {
          "base_uri": "https://localhost:8080/"
        },
        "id": "rfkRe7i3K36n",
        "outputId": "1d4fcb3e-e8e1-46be-be73-a100f2e637c0"
      },
      "source": [
        "A"
      ],
      "execution_count": 58,
      "outputs": [
        {
          "output_type": "execute_result",
          "data": {
            "text/plain": [
              "array([[ 1,  5,  6],\n",
              "       [ 1,  8,  9],\n",
              "       [ 0, -1,  6]])"
            ]
          },
          "metadata": {
            "tags": []
          },
          "execution_count": 58
        }
      ]
    },
    {
      "cell_type": "code",
      "metadata": {
        "colab": {
          "base_uri": "https://localhost:8080/"
        },
        "id": "310C8mSOLBkk",
        "outputId": "9d0bf4dc-90a3-4897-cab1-4887b7e4b6e0"
      },
      "source": [
        "b = np.random.random((3,1))\n",
        "b"
      ],
      "execution_count": 59,
      "outputs": [
        {
          "output_type": "execute_result",
          "data": {
            "text/plain": [
              "array([[0.54008772],\n",
              "       [0.95554526],\n",
              "       [0.46385869]])"
            ]
          },
          "metadata": {
            "tags": []
          },
          "execution_count": 59
        }
      ]
    },
    {
      "cell_type": "code",
      "metadata": {
        "colab": {
          "base_uri": "https://localhost:8080/"
        },
        "id": "cHIMT4xMLFZS",
        "outputId": "6e623d0e-1fa1-4395-faf0-fdcb6d7d8b2d"
      },
      "source": [
        "x1 = np.matmul(np.linalg.inv(A), b)\n",
        "x1"
      ],
      "execution_count": 61,
      "outputs": [
        {
          "output_type": "execute_result",
          "data": {
            "text/plain": [
              "array([[-0.23839073],\n",
              "       [ 0.05243663],\n",
              "       [ 0.08604922]])"
            ]
          },
          "metadata": {
            "tags": []
          },
          "execution_count": 61
        }
      ]
    },
    {
      "cell_type": "code",
      "metadata": {
        "colab": {
          "base_uri": "https://localhost:8080/"
        },
        "id": "nIei2B3QLLt0",
        "outputId": "a1078887-2064-4e40-910a-cf066d7a165f"
      },
      "source": [
        "x2 = np.linalg.solve(A,b)\n",
        "x2"
      ],
      "execution_count": 62,
      "outputs": [
        {
          "output_type": "execute_result",
          "data": {
            "text/plain": [
              "array([[-0.23839073],\n",
              "       [ 0.05243663],\n",
              "       [ 0.08604922]])"
            ]
          },
          "metadata": {
            "tags": []
          },
          "execution_count": 62
        }
      ]
    },
    {
      "cell_type": "code",
      "metadata": {
        "colab": {
          "base_uri": "https://localhost:8080/"
        },
        "id": "ny6ZmOtKLW56",
        "outputId": "2ceb5914-0016-45e3-f91a-d5a75239974d"
      },
      "source": [
        "S = np.array([[1,2], [2,4]])\n",
        "S"
      ],
      "execution_count": 64,
      "outputs": [
        {
          "output_type": "execute_result",
          "data": {
            "text/plain": [
              "array([[1, 2],\n",
              "       [2, 4]])"
            ]
          },
          "metadata": {
            "tags": []
          },
          "execution_count": 64
        }
      ]
    },
    {
      "cell_type": "code",
      "metadata": {
        "colab": {
          "base_uri": "https://localhost:8080/"
        },
        "id": "x-ccw-s3Lhee",
        "outputId": "3c8109c2-b61b-4e9f-8c23-85c29d99a284"
      },
      "source": [
        "np.matmul(np.linalg.pinv(S),S)"
      ],
      "execution_count": 67,
      "outputs": [
        {
          "output_type": "execute_result",
          "data": {
            "text/plain": [
              "array([[0.2, 0.4],\n",
              "       [0.4, 0.8]])"
            ]
          },
          "metadata": {
            "tags": []
          },
          "execution_count": 67
        }
      ]
    },
    {
      "cell_type": "code",
      "metadata": {
        "id": "2X5M18CQLkG-"
      },
      "source": [
        ""
      ],
      "execution_count": null,
      "outputs": []
    }
  ]
}